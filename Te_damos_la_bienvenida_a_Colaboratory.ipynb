{
  "cells": [
    {
      "cell_type": "markdown",
      "metadata": {
        "id": "view-in-github",
        "colab_type": "text"
      },
      "source": [
        "<a href=\"https://colab.research.google.com/github/RArgueta9/Laboratorio-MM412/blob/main/Te_damos_la_bienvenida_a_Colaboratory.ipynb\" target=\"_parent\"><img src=\"https://colab.research.google.com/assets/colab-badge.svg\" alt=\"Open In Colab\"/></a>"
      ]
    },
    {
      "cell_type": "markdown",
      "source": [
        "# math\n",
        "Se utiliza para realizar operaciones matemáticas básicas con números escalares\n"
      ],
      "metadata": {
        "id": "yX4KqmtMHTgb"
      }
    },
    {
      "cell_type": "code",
      "source": [
        "import math #Instruccion para llamar biblioteca\n",
        "x=16 #Declaracion de variable\n",
        "resultado=math.sqrt(x)  #Funcion raiz cuadrada\n",
        "print(¨La raiz cuadrada de 16 es:¨,resultado)"
      ],
      "metadata": {
        "id": "4ZawpTOBHWTD"
      },
      "execution_count": null,
      "outputs": []
    },
    {
      "cell_type": "markdown",
      "source": [
        "# numpy\n",
        "Se utiliza para trabajar con arreglos y realizar operaciones matemáticas de manera eficiente.\n",
        "matplotlib.pyplot\n",
        "\n"
      ],
      "metadata": {
        "id": "Jr3MzFP-IdvM"
      }
    },
    {
      "cell_type": "code",
      "source": [
        "[] import numpy as np\n",
        "#Realizar una  operacion sobre el array\n",
        "squared="
      ],
      "metadata": {
        "id": "U_jALlBMImnr"
      },
      "execution_count": null,
      "outputs": []
    },
    {
      "cell_type": "markdown",
      "source": [
        "# matplotlib.pyplot\n",
        "Se utiliza para crear gráficos y visualizar datos.\n"
      ],
      "metadata": {
        "id": "tLET90fzI128"
      }
    },
    {
      "cell_type": "code",
      "source": [
        "import matplotlib.pyplot\n"
      ],
      "metadata": {
        "id": "MMiQ2gdgI6va"
      },
      "execution_count": null,
      "outputs": []
    },
    {
      "cell_type": "markdown",
      "source": [
        "# scipy\n",
        "Permite realizar optimización y encontrar raíces de funciones.\n"
      ],
      "metadata": {
        "id": "lL08_51WJFK7"
      }
    },
    {
      "cell_type": "code",
      "source": [],
      "metadata": {
        "id": "gS7dbMAyJMAr"
      },
      "execution_count": null,
      "outputs": []
    }
  ],
  "metadata": {
    "colab": {
      "name": "Te damos la bienvenida a Colaboratory",
      "toc_visible": true,
      "provenance": [],
      "include_colab_link": true
    },
    "kernelspec": {
      "display_name": "Python 3",
      "name": "python3"
    }
  },
  "nbformat": 4,
  "nbformat_minor": 0
}